{
 "cells": [
  {
   "cell_type": "code",
   "execution_count": null,
   "metadata": {
    "collapsed": true
   },
   "outputs": [],
   "source": [
    "import pandas\n",
    "import glob\n",
    "import matplotlib.pyplot as plt\n",
    "import os"
   ]
  },
  {
   "cell_type": "code",
   "execution_count": null,
   "metadata": {
    "collapsed": false
   },
   "outputs": [],
   "source": [
    "data = pandas.read_csv('/Users/Soledad/Box Sync/IU/Fall 15/I590 - Collective Intelligence/Critical Transitions Project/congressional elections 2014_all.csv')\n",
    "name_list = []\n",
    "for name in data.name:\n",
    "    n = name.lower().replace(' ','_')\n",
    "    name_list.append(n)"
   ]
  },
  {
   "cell_type": "code",
   "execution_count": null,
   "metadata": {
    "collapsed": false
   },
   "outputs": [],
   "source": [
    "results = glob.glob('/Users/Soledad/Box Sync/IU/Fall 15/I590 - Collective Intelligence/Critical Transitions Project/_results/'+'*.txt')\n",
    "# print os.path.basename(results[1])"
   ]
  },
  {
   "cell_type": "code",
   "execution_count": null,
   "metadata": {
    "collapsed": false,
    "scrolled": true
   },
   "outputs": [],
   "source": [
    "# draw results\n",
    "for f in results:   \n",
    "    n1 = pandas.read_table(f, sep='\\t') \n",
    "    \n",
    "    n1.columns = ['date', 'freq']\n",
    "    \n",
    "    maxx = n1.freq.idxmax()\n",
    "    \n",
    "    date = n1.iloc[maxx].date\n",
    "    freq = n1.iloc[maxx].freq\n",
    "    \n",
    "    n2 = n1.set_index('date')\n",
    "    \n",
    "    legend = '(' + str(date) + ', ' + str(freq) + ')'\n",
    "    \n",
    "    xx = maxx\n",
    "    \n",
    "    yy = int(n2[(maxx):(maxx)+1].freq)\n",
    "    \n",
    "    plt.switch_backend('QT4Agg')\n",
    "    \n",
    "    p = n2.plot()\n",
    "    \n",
    "    p.plot([xx,yy], marker='o', label='max')\n",
    "\n",
    "    \n",
    "#     plt.annotate(legend, xy=(xx, yy), xytext=(xx+15, yy-15), arrowprops = dict(facecolor='black', shrink=0.05),)\n",
    "    \n",
    "#     mng = plt.get_current_fig_manager()\n",
    "#     mng.window.showMaximized()\n",
    "    \n",
    "    fname = os.path.basename(f)\n",
    "    plt.savefig('/Users/Soledad/Box Sync/IU/Fall 15/I590 - Collective Intelligence/Critical Transitions Project/Plot/' + fname +'.png')    "
   ]
  }
 ],
 "metadata": {
  "kernelspec": {
   "display_name": "Python 2",
   "language": "python",
   "name": "python2"
  },
  "language_info": {
   "codemirror_mode": {
    "name": "ipython",
    "version": 2
   },
   "file_extension": ".py",
   "mimetype": "text/x-python",
   "name": "python",
   "nbconvert_exporter": "python",
   "pygments_lexer": "ipython2",
   "version": "2.7.11"
  }
 },
 "nbformat": 4,
 "nbformat_minor": 0
}
