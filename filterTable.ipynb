{
 "cells": [
  {
   "cell_type": "code",
   "execution_count": 1,
   "metadata": {
    "collapsed": true
   },
   "outputs": [],
   "source": [
    "import pandas\n",
    "import glob\n",
    "import matplotlib.pyplot as plt\n",
    "import os"
   ]
  },
  {
   "cell_type": "code",
   "execution_count": 2,
   "metadata": {
    "collapsed": true
   },
   "outputs": [],
   "source": [
    "# get last name from the candidates we have data\n",
    "results = glob.glob('/Users/Soledad/Box Sync/IU/Fall 15/I590 - Collective Intelligence/Critical Transitions Project/_results/'+'*.txt')\n",
    "complete_name = []\n",
    "first_name = []\n",
    "last_name = []\n",
    "\n",
    "for r in results:\n",
    "    filename = os.path.basename(r)\n",
    "    complete_name.append(filename)\n",
    "    a = filename.replace(\".txt\", '', 1)\n",
    "    b = a.split('_')\n",
    "    first_name.append(b[0])\n",
    "    last_name.append(b[1])"
   ]
  },
  {
   "cell_type": "code",
   "execution_count": 38,
   "metadata": {
    "collapsed": false
   },
   "outputs": [
    {
     "name": "stdout",
     "output_type": "stream",
     "text": [
      "511\n"
     ]
    }
   ],
   "source": [
    "# get filtered file with possible candidates\n",
    "filtered_2010 = pandas.read_excel('/Users/Soledad/Box Sync/IU/Fall 15/I590 - Collective Intelligence/Critical Transitions Project/Congressional Elections Results/federalelections2010_Incumbent.xls', sep='\\t') \n",
    "\n",
    "# convert to string last name column\n",
    "filtered_2010['CANDIDATE NAME (Last)'] = filtered_2010['CANDIDATE NAME (Last)'].astype(str, raise_on_error=False)\n",
    "filtered_2010 = filtered_2010[filtered_2010['INCUMBENT INDICATOR (I)'] == '(I)' ]\n",
    "filtered_2010 = filtered_2010.reset_index(drop=True)\n",
    "print filtered_2010.shape[0]\n"
   ]
  },
  {
   "cell_type": "code",
   "execution_count": 39,
   "metadata": {
    "collapsed": false
   },
   "outputs": [
    {
     "name": "stdout",
     "output_type": "stream",
     "text": [
      "489\n"
     ]
    }
   ],
   "source": [
    "# get filtered file with possible candidates\n",
    "filtered_2012 = pandas.read_excel('/Users/Soledad/Box Sync/IU/Fall 15/I590 - Collective Intelligence/Critical Transitions Project/Congressional Elections Results/2012congresults_Incumbent.xls', sep='\\t') \n",
    "\n",
    "# convert to string last name column\n",
    "filtered_2012['CANDIDATE NAME (Last)'] = filtered_2012['CANDIDATE NAME (Last)'].astype(str, raise_on_error=False)\n",
    "filtered_2012 = filtered_2012[filtered_2012['INCUMBENT INDICATOR (I)'] == '(I)' ]\n",
    "filtered_2012 = filtered_2012.reset_index(drop=True)\n",
    "print filtered_2012.shape[0]\n"
   ]
  },
  {
   "cell_type": "code",
   "execution_count": 40,
   "metadata": {
    "collapsed": false
   },
   "outputs": [
    {
     "name": "stdout",
     "output_type": "stream",
     "text": [
      "464\n"
     ]
    }
   ],
   "source": [
    "# get filtered file with possible candidates\n",
    "filtered_2014 = pandas.read_excel('/Users/Soledad/Box Sync/IU/Fall 15/I590 - Collective Intelligence/Critical Transitions Project/Congressional Elections Results/results14_Incumbent.xls', sep='\\t') \n",
    "\n",
    "# convert to string last name column\n",
    "filtered_2014['CANDIDATE NAME (Last)'] = filtered_2014['CANDIDATE NAME (Last)'].astype(str, raise_on_error=False)\n",
    "filtered_2014 = filtered_2014[filtered_2014['INCUMBENT INDICATOR (I)'] == '(I)' ]\n",
    "filtered_2014 = filtered_2014.reset_index(drop=True)\n",
    "print filtered_2014.shape[0]"
   ]
  },
  {
   "cell_type": "code",
   "execution_count": 41,
   "metadata": {
    "collapsed": false
   },
   "outputs": [],
   "source": [
    "# create datafram with same structure as original table\n",
    "cols = list(filtered_2010.columns.values)\n",
    "filtered_data_2010 = pandas.DataFrame(columns = cols)\n",
    "\n",
    "# filtered_data_2010.columns = cols"
   ]
  },
  {
   "cell_type": "code",
   "execution_count": 42,
   "metadata": {
    "collapsed": false
   },
   "outputs": [],
   "source": [
    "# create datafram with same structure as original table\n",
    "cols = list(filtered_2012.columns.values)\n",
    "filtered_data_2012 = pandas.DataFrame(columns = cols)"
   ]
  },
  {
   "cell_type": "code",
   "execution_count": 43,
   "metadata": {
    "collapsed": false
   },
   "outputs": [],
   "source": [
    "# create datafram with same structure as original table\n",
    "cols = list(filtered_2014.columns.values)\n",
    "filtered_data_2014 = pandas.DataFrame(columns = cols)"
   ]
  },
  {
   "cell_type": "code",
   "execution_count": 44,
   "metadata": {
    "collapsed": false
   },
   "outputs": [
    {
     "name": "stdout",
     "output_type": "stream",
     "text": [
      "[23, 234, 246, 438, 474, 215, 250, 147, 174, 28, 21, 216, 383, 186, 209, 90, 171, 193, 315, 391, 396, 251, 387, 226, 222, 358, 362, 26, 44, 84, 200, 135, 106, 133, 332, 151, 88, 334, 370, 142, 150, 286, 37, 136, 137, 141, 269, 166, 167, 168, 179, 289, 21, 216, 383, 50, 154, 164, 172, 81, 204, 213, 221, 307, 28, 23, 234, 246, 438, 474, 212, 69, 61, 195, 114, 345, 12, 238, 239, 66, 7, 95, 149, 22, 70, 175, 241, 242, 298, 224, 208, 260, 262, 244, 372, 248, 112, 357, 366, 422, 446, 26, 44, 84, 200, 64, 132, 26, 44, 84, 200, 45, 217, 273, 263, 277, 434, 440, 112, 357, 366, 422, 446, 347, 217, 67, 230, 268, 13, 26, 44, 84, 200, 270, 271, 280, 58, 113, 24, 382, 79, 80, 184, 321, 349, 354, 361, 368, 272, 75, 76, 237, 58, 202, 201, 169, 19, 423, 207, 73, 74, 176, 276, 187, 162, 245, 278, 279, 295, 281, 282, 292, 210, 54, 148, 294, 296, 232, 297, 249, 59, 300, 302, 329, 53, 363, 105, 1, 116, 120, 403, 459, 55, 351, 28, 211, 188, 71, 386, 283, 305, 306, 348, 173, 2, 163, 198, 97, 21, 216, 383, 308, 309, 310, 27, 114, 345, 185, 301, 312, 313, 274, 314, 316, 350, 11, 311, 317, 319, 320, 4, 155, 261, 322, 323, 324, 10, 64, 132, 343, 183, 16, 243, 3, 170, 253, 77, 78, 254, 331, 199, 397, 68, 5, 189, 353, 265, 336, 337, 339, 341, 256, 340, 165, 367, 18, 218, 64, 132, 102, 6, 110, 258, 371, 390, 450, 17, 365, 480, 206, 7, 95, 149, 15, 223, 346, 344, 26, 44, 84, 200, 190, 263, 277, 434, 440]\n"
     ]
    }
   ],
   "source": [
    "# search for coincidences in last_name list and in table\n",
    "idx_2010 = []\n",
    "idx_2012 = []\n",
    "idx_2014 = []\n",
    "for name in last_name:\n",
    "    idx_2010.append(filtered_2010[filtered_2010['CANDIDATE NAME (Last)'].str.lower() == name].index.tolist())\n",
    "    idx_2012.append(filtered_2012[filtered_2012['CANDIDATE NAME (Last)'].str.lower() == name].index.tolist())\n",
    "    idx_2014.append(filtered_2014[filtered_2014['CANDIDATE NAME (Last)'].str.lower() == name].index.tolist())\n",
    "\n",
    "    \n",
    "idx_2010 = reduce(lambda x,y: x+y, idx_2010)\n",
    "idx_2012 = reduce(lambda x,y: x+y, idx_2012)    \n",
    "idx_2014 = reduce(lambda x,y: x+y, idx_2014)\n",
    "# print idx_2012\n",
    "\n",
    "# idx.sort()\n",
    "\n",
    "# filter the coincidences\n",
    "filtered_data_2010 = filtered_2010.iloc[idx_2010,:]\n",
    "filtered_data_2012 = filtered_2012.iloc[idx_2012,:]\n",
    "filtered_data_2014 = filtered_2014.iloc[idx_2014,:]\n",
    "\n",
    "\n"
   ]
  },
  {
   "cell_type": "code",
   "execution_count": 46,
   "metadata": {
    "collapsed": false
   },
   "outputs": [
    {
     "name": "stdout",
     "output_type": "stream",
     "text": [
      "328\n",
      "296\n",
      "236\n"
     ]
    }
   ],
   "source": [
    "print filtered_data_2010.shape[0]\n",
    "print filtered_data_2012.shape[0]\n",
    "print filtered_data_2014.shape[0]"
   ]
  },
  {
   "cell_type": "code",
   "execution_count": 47,
   "metadata": {
    "collapsed": false
   },
   "outputs": [],
   "source": [
    "# save to file\n",
    "filtered_data_2010.to_excel(\"/Users/Soledad/Box Sync/IU/Fall 15/I590 - Collective Intelligence/Critical Transitions Project/2010_filtered_data.xlsx\", index=False)\n",
    "filtered_data_2012.to_excel(\"/Users/Soledad/Box Sync/IU/Fall 15/I590 - Collective Intelligence/Critical Transitions Project/2012_filtered_data.xlsx\", index=False)\n",
    "filtered_data_2014.to_excel(\"/Users/Soledad/Box Sync/IU/Fall 15/I590 - Collective Intelligence/Critical Transitions Project/2014_filtered_data.xlsx\", index=False)"
   ]
  },
  {
   "cell_type": "code",
   "execution_count": null,
   "metadata": {
    "collapsed": true
   },
   "outputs": [],
   "source": [
    "filtered_data_2012[\"STATE\"] = filtered_data_2012[\"STATE\"].astype(str, raise_on_error=False)"
   ]
  }
 ],
 "metadata": {
  "kernelspec": {
   "display_name": "Python 2",
   "language": "python",
   "name": "python2"
  },
  "language_info": {
   "codemirror_mode": {
    "name": "ipython",
    "version": 2
   },
   "file_extension": ".py",
   "mimetype": "text/x-python",
   "name": "python",
   "nbconvert_exporter": "python",
   "pygments_lexer": "ipython2",
   "version": "2.7.11"
  }
 },
 "nbformat": 4,
 "nbformat_minor": 0
}
