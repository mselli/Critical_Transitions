{
 "cells": [
  {
   "cell_type": "code",
   "execution_count": 1,
   "metadata": {
    "collapsed": true
   },
   "outputs": [],
   "source": [
    "import pandas\n",
    "import glob\n",
    "import matplotlib.pyplot as plt\n",
    "import os"
   ]
  },
  {
   "cell_type": "code",
   "execution_count": 2,
   "metadata": {
    "collapsed": true
   },
   "outputs": [],
   "source": [
    "# get filtered file with possible candidates\n",
    "filtered = pandas.read_excel('/Users/Soledad/Box Sync/IU/Fall 15/I590 - Collective Intelligence/Critical Transitions Project/2012_filtered.xlsx', sep='\\t') \n",
    "\n",
    "# convert to string last name column\n",
    "filtered['CANDIDATE NAME (Last)'] = filtered['CANDIDATE NAME (Last)'].astype(str, raise_on_error=False)"
   ]
  },
  {
   "cell_type": "code",
   "execution_count": 3,
   "metadata": {
    "collapsed": true
   },
   "outputs": [],
   "source": [
    "# get last name from the candidates we have data\n",
    "results = glob.glob('/Users/Soledad/Box Sync/IU/Fall 15/I590 - Collective Intelligence/Critical Transitions Project/_results/'+'*.txt')\n",
    "complete_name = []\n",
    "first_name = []\n",
    "last_name = []\n",
    "\n",
    "for r in results:\n",
    "    filename = os.path.basename(r)\n",
    "    complete_name.append(filename)\n",
    "    a = filename.replace(\".txt\", '', 1)\n",
    "    b = a.split('_')\n",
    "    first_name.append(b[0])\n",
    "    last_name.append(b[1])"
   ]
  },
  {
   "cell_type": "code",
   "execution_count": 4,
   "metadata": {
    "collapsed": false
   },
   "outputs": [
    {
     "data": {
      "text/html": [
       "<div>\n",
       "<table border=\"1\" class=\"dataframe\">\n",
       "  <thead>\n",
       "    <tr style=\"text-align: right;\">\n",
       "      <th></th>\n",
       "      <th>1</th>\n",
       "      <th>STATE ABBREVIATION</th>\n",
       "      <th>STATE</th>\n",
       "      <th>(I)</th>\n",
       "      <th>CANDIDATE NAME (First)</th>\n",
       "      <th>CANDIDATE NAME (Last)</th>\n",
       "      <th>CANDIDATE NAME</th>\n",
       "      <th>TOTAL VOTES</th>\n",
       "      <th>PRIMARY VOTES</th>\n",
       "      <th>PRIMARY %</th>\n",
       "      <th>RUNOFF VOTES</th>\n",
       "      <th>RUNOFF %</th>\n",
       "      <th>GENERAL VOTES</th>\n",
       "      <th>GENERAL %</th>\n",
       "      <th>GE RUNOFF ELECTION VOTES (LA)</th>\n",
       "      <th>GE RUNOFF ELECTION % (LA)</th>\n",
       "      <th>COMBINED GE PARTY TOTALS (CT, NY, SC)</th>\n",
       "      <th>COMBINED % (CT, NY, SC)</th>\n",
       "      <th>GE WINNER INDICATOR</th>\n",
       "      <th>FOOTNOTES</th>\n",
       "    </tr>\n",
       "  </thead>\n",
       "  <tbody>\n",
       "  </tbody>\n",
       "</table>\n",
       "</div>"
      ],
      "text/plain": [
       "Empty DataFrame\n",
       "Columns: [1, STATE ABBREVIATION, STATE, (I), CANDIDATE NAME (First), CANDIDATE NAME (Last), CANDIDATE NAME, TOTAL VOTES, PRIMARY VOTES, PRIMARY %, RUNOFF VOTES, RUNOFF %, GENERAL VOTES , GENERAL %, GE RUNOFF ELECTION VOTES (LA), GE RUNOFF ELECTION % (LA), COMBINED GE PARTY TOTALS (CT, NY, SC), COMBINED % (CT, NY, SC), GE WINNER INDICATOR, FOOTNOTES]\n",
       "Index: []"
      ]
     },
     "execution_count": 4,
     "metadata": {},
     "output_type": "execute_result"
    }
   ],
   "source": [
    "# create datafram with same structure as original table\n",
    "filtered_data = pandas.DataFrame(filtered)\n",
    "filtered_data.drop(range(0,len(filtered)), axis=0)"
   ]
  },
  {
   "cell_type": "code",
   "execution_count": 5,
   "metadata": {
    "collapsed": true
   },
   "outputs": [],
   "source": [
    "# search for coincidences in last_name list and in table\n",
    "idx = []\n",
    "for name in last_name:\n",
    "    idx.append(filtered[filtered['CANDIDATE NAME (Last)'].str.lower() == name].index.tolist())\n",
    "\n",
    "idx = reduce(lambda x,y: x+y, idx)\n",
    "# idx.sort()\n",
    "\n",
    "# filter the coincidences\n",
    "filtered_data = filtered.iloc[idx,:]"
   ]
  },
  {
   "cell_type": "code",
   "execution_count": 6,
   "metadata": {
    "collapsed": true
   },
   "outputs": [],
   "source": [
    "# save to file\n",
    "filtered_data.to_excel(\"/Users/Soledad/Box Sync/IU/Fall 15/I590 - Collective Intelligence/Critical Transitions Project/2012_filtered_data.xlsx\", index=False)"
   ]
  },
  {
   "cell_type": "code",
   "execution_count": null,
   "metadata": {
    "collapsed": true
   },
   "outputs": [],
   "source": [
    "filtered_data[\"STATE\"] = filtered_data[\"STATE\"].astype(str, raise_on_error=False)"
   ]
  }
 ],
 "metadata": {
  "kernelspec": {
   "display_name": "Python 2",
   "language": "python",
   "name": "python2"
  },
  "language_info": {
   "codemirror_mode": {
    "name": "ipython",
    "version": 2
   },
   "file_extension": ".py",
   "mimetype": "text/x-python",
   "name": "python",
   "nbconvert_exporter": "python",
   "pygments_lexer": "ipython2",
   "version": "2.7.11"
  }
 },
 "nbformat": 4,
 "nbformat_minor": 0
}
